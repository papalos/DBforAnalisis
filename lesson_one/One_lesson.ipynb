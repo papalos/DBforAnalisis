{
 "cells": [
  {
   "cell_type": "code",
   "execution_count": 1,
   "metadata": {},
   "outputs": [],
   "source": [
    "import numpy as np\n",
    "import pandas as pd\n",
    "# Задаем формат отображения чисел с плавающей точкой\n",
    "pd.options.display.float_format ='{:,.2f}'.format"
   ]
  },
  {
   "cell_type": "code",
   "execution_count": 2,
   "metadata": {},
   "outputs": [
    {
     "data": {
      "text/plain": [
       "id_o                int64\n",
       "user_id             int64\n",
       "price             float64\n",
       "o_date     datetime64[ns]\n",
       "dtype: object"
      ]
     },
     "execution_count": 2,
     "metadata": {},
     "output_type": "execute_result"
    }
   ],
   "source": [
    "# Загружаем данные\n",
    "df = pd.read_csv(r'C:\\Users\\sepa\\Desktop\\orders_20190822.csv', sep=';')\n",
    "# Заменяем типы данных на подходящие\n",
    "df['price'] = df['price'].replace(',','.', regex=True).astype('float')\n",
    "df['o_date'] = pd.to_datetime(df['o_date'], dayfirst=True)\n",
    "df.dtypes"
   ]
  },
  {
   "cell_type": "code",
   "execution_count": 3,
   "metadata": {},
   "outputs": [
    {
     "data": {
      "text/html": [
       "<div>\n",
       "<style scoped>\n",
       "    .dataframe tbody tr th:only-of-type {\n",
       "        vertical-align: middle;\n",
       "    }\n",
       "\n",
       "    .dataframe tbody tr th {\n",
       "        vertical-align: top;\n",
       "    }\n",
       "\n",
       "    .dataframe thead th {\n",
       "        text-align: right;\n",
       "    }\n",
       "</style>\n",
       "<table border=\"1\" class=\"dataframe\">\n",
       "  <thead>\n",
       "    <tr style=\"text-align: right;\">\n",
       "      <th></th>\n",
       "      <th>id_o</th>\n",
       "      <th>user_id</th>\n",
       "      <th>price</th>\n",
       "      <th>o_date</th>\n",
       "    </tr>\n",
       "  </thead>\n",
       "  <tbody>\n",
       "    <tr>\n",
       "      <th>0</th>\n",
       "      <td>1234491</td>\n",
       "      <td>337544</td>\n",
       "      <td>539.00</td>\n",
       "      <td>2016-01-01</td>\n",
       "    </tr>\n",
       "    <tr>\n",
       "      <th>1</th>\n",
       "      <td>1234494</td>\n",
       "      <td>171642</td>\n",
       "      <td>153.30</td>\n",
       "      <td>2016-01-01</td>\n",
       "    </tr>\n",
       "    <tr>\n",
       "      <th>2</th>\n",
       "      <td>1234497</td>\n",
       "      <td>260596</td>\n",
       "      <td>55.30</td>\n",
       "      <td>2016-01-01</td>\n",
       "    </tr>\n",
       "    <tr>\n",
       "      <th>3</th>\n",
       "      <td>1234498</td>\n",
       "      <td>1105609</td>\n",
       "      <td>752.50</td>\n",
       "      <td>2016-01-01</td>\n",
       "    </tr>\n",
       "    <tr>\n",
       "      <th>4</th>\n",
       "      <td>1234500</td>\n",
       "      <td>982696</td>\n",
       "      <td>4,410.00</td>\n",
       "      <td>2016-01-01</td>\n",
       "    </tr>\n",
       "    <tr>\n",
       "      <th>...</th>\n",
       "      <td>...</td>\n",
       "      <td>...</td>\n",
       "      <td>...</td>\n",
       "      <td>...</td>\n",
       "    </tr>\n",
       "    <tr>\n",
       "      <th>2002799</th>\n",
       "      <td>6945524</td>\n",
       "      <td>5806002</td>\n",
       "      <td>825.30</td>\n",
       "      <td>2017-12-31</td>\n",
       "    </tr>\n",
       "    <tr>\n",
       "      <th>2002800</th>\n",
       "      <td>6945526</td>\n",
       "      <td>5919142</td>\n",
       "      <td>4,934.30</td>\n",
       "      <td>2017-12-31</td>\n",
       "    </tr>\n",
       "    <tr>\n",
       "      <th>2002801</th>\n",
       "      <td>6945527</td>\n",
       "      <td>1574166</td>\n",
       "      <td>804.30</td>\n",
       "      <td>2017-12-31</td>\n",
       "    </tr>\n",
       "    <tr>\n",
       "      <th>2002802</th>\n",
       "      <td>6945528</td>\n",
       "      <td>5919156</td>\n",
       "      <td>5,019.70</td>\n",
       "      <td>2017-12-31</td>\n",
       "    </tr>\n",
       "    <tr>\n",
       "      <th>2002803</th>\n",
       "      <td>6945534</td>\n",
       "      <td>4801083</td>\n",
       "      <td>679.70</td>\n",
       "      <td>2017-12-31</td>\n",
       "    </tr>\n",
       "  </tbody>\n",
       "</table>\n",
       "<p>2002804 rows × 4 columns</p>\n",
       "</div>"
      ],
      "text/plain": [
       "            id_o  user_id    price     o_date\n",
       "0        1234491   337544   539.00 2016-01-01\n",
       "1        1234494   171642   153.30 2016-01-01\n",
       "2        1234497   260596    55.30 2016-01-01\n",
       "3        1234498  1105609   752.50 2016-01-01\n",
       "4        1234500   982696 4,410.00 2016-01-01\n",
       "...          ...      ...      ...        ...\n",
       "2002799  6945524  5806002   825.30 2017-12-31\n",
       "2002800  6945526  5919142 4,934.30 2017-12-31\n",
       "2002801  6945527  1574166   804.30 2017-12-31\n",
       "2002802  6945528  5919156 5,019.70 2017-12-31\n",
       "2002803  6945534  4801083   679.70 2017-12-31\n",
       "\n",
       "[2002804 rows x 4 columns]"
      ]
     },
     "execution_count": 3,
     "metadata": {},
     "output_type": "execute_result"
    }
   ],
   "source": [
    "df"
   ]
  },
  {
   "cell_type": "markdown",
   "metadata": {},
   "source": [
    "Проверка на пустые значения"
   ]
  },
  {
   "cell_type": "code",
   "execution_count": 4,
   "metadata": {},
   "outputs": [
    {
     "data": {
      "text/plain": [
       "id_o       2002804\n",
       "user_id    2002804\n",
       "price      2002804\n",
       "o_date     2002804\n",
       "dtype: int64"
      ]
     },
     "execution_count": 4,
     "metadata": {},
     "output_type": "execute_result"
    }
   ],
   "source": [
    "df.count()"
   ]
  },
  {
   "cell_type": "markdown",
   "metadata": {},
   "source": [
    " ### Проанализировать, какой период данных выгружен"
   ]
  },
  {
   "cell_type": "code",
   "execution_count": 5,
   "metadata": {},
   "outputs": [
    {
     "name": "stdout",
     "output_type": "stream",
     "text": [
      "2016-01-01 00:00:00\n",
      "2017-12-31 00:00:00\n"
     ]
    }
   ],
   "source": [
    "print(df['o_date'].min())\n",
    "print(df['o_date'].max())"
   ]
  },
  {
   "cell_type": "markdown",
   "metadata": {},
   "source": [
    "### Посчитать кол-во строк, кол-во заказов и кол-во уникальных пользователей, кот совершали заказы."
   ]
  },
  {
   "cell_type": "code",
   "execution_count": 6,
   "metadata": {},
   "outputs": [
    {
     "name": "stdout",
     "output_type": "stream",
     "text": [
      "Количество строк:  2002804\n",
      "Количество заказов:  2002804\n",
      "Количество покупателей:  1015119\n"
     ]
    }
   ],
   "source": [
    "print('Количество строк: ', len(df))\n",
    "print('Количество заказов: ', len(df['id_o'].unique()))\n",
    "print('Количество покупателей: ', len(df['user_id'].unique()))"
   ]
  },
  {
   "cell_type": "markdown",
   "metadata": {},
   "source": [
    "#### По годам посчитать средний чек, среднее кол-во заказов на пользователя, сделать вывод , как изменялись это показатели Год от года."
   ]
  },
  {
   "cell_type": "code",
   "execution_count": 7,
   "metadata": {},
   "outputs": [
    {
     "name": "stdout",
     "output_type": "stream",
     "text": [
      "o_date\n",
      "2016    445092\n",
      "2017    654894\n",
      "Name: user_id, dtype: int64\n",
      "o_date\n",
      "2016   1,805,022,652.64\n",
      "2017   2,737,664,788.60\n",
      "Name: price, dtype: float64\n"
     ]
    }
   ],
   "source": [
    "a = df.groupby([df['o_date'].dt.year, ])['user_id'].nunique()\n",
    "b = df.groupby([df['o_date'].dt.year, ])['price'].sum()\n",
    "print(a)\n",
    "print(b)"
   ]
  },
  {
   "cell_type": "code",
   "execution_count": 8,
   "metadata": {},
   "outputs": [
    {
     "name": "stdout",
     "output_type": "stream",
     "text": [
      "Средний чек:  o_date\n",
      "2016   4,055.39\n",
      "2017   4,180.32\n",
      "dtype: float64\n"
     ]
    }
   ],
   "source": [
    "print('Средний чек: ', b/a)"
   ]
  },
  {
   "cell_type": "code",
   "execution_count": 9,
   "metadata": {},
   "outputs": [
    {
     "name": "stdout",
     "output_type": "stream",
     "text": [
      "o_date\n",
      "2016     861346\n",
      "2017    1141458\n",
      "Name: id_o, dtype: int64\n"
     ]
    }
   ],
   "source": [
    "c = df.groupby([df['o_date'].dt.year, ])['id_o'].count()\n",
    "print(c)"
   ]
  },
  {
   "cell_type": "code",
   "execution_count": 10,
   "metadata": {},
   "outputs": [
    {
     "name": "stdout",
     "output_type": "stream",
     "text": [
      "Среднее количество заказов:  o_date\n",
      "2016   1.94\n",
      "2017   1.74\n",
      "dtype: float64\n"
     ]
    }
   ],
   "source": [
    "print('Среднее количество заказов: ', c/a)"
   ]
  },
  {
   "cell_type": "markdown",
   "metadata": {},
   "source": [
    "ВЫВОД: В среднем в 2017 году каждый покупатель стал покупать на большую сумму"
   ]
  },
  {
   "cell_type": "markdown",
   "metadata": {},
   "source": [
    "### Найти кол-во пользователей, кот покупали в одном году и перестали покупать в следующем."
   ]
  },
  {
   "cell_type": "code",
   "execution_count": 11,
   "metadata": {},
   "outputs": [
    {
     "name": "stdout",
     "output_type": "stream",
     "text": [
      "Количество переставших покупать в следующем году:  360225\n"
     ]
    }
   ],
   "source": [
    "d = df.groupby([df['o_date'].dt.year, ])['user_id'].unique()\n",
    "s1 = set(d[2016])\n",
    "s2 = set(d[2017])\n",
    "print('Количество переставших покупать в следующем году: ', len(s1-s2))"
   ]
  },
  {
   "cell_type": "markdown",
   "metadata": {},
   "source": [
    "### Найти ID самого активного по кол-ву покупок пользователя."
   ]
  },
  {
   "cell_type": "code",
   "execution_count": 12,
   "metadata": {},
   "outputs": [
    {
     "name": "stdout",
     "output_type": "stream",
     "text": [
      "Самый активный покупатель:  765861\n"
     ]
    }
   ],
   "source": [
    "e = df.groupby(df['user_id'])['id_o'].count()\n",
    "print('Самый активный покупатель: ', e[e==e.max()].index[0])"
   ]
  },
  {
   "cell_type": "markdown",
   "metadata": {},
   "source": [
    "### Найти коэффициенты сезонности по месяцам"
   ]
  },
  {
   "cell_type": "code",
   "execution_count": 13,
   "metadata": {},
   "outputs": [
    {
     "name": "stdout",
     "output_type": "stream",
     "text": [
      "o_date\n",
      "1    0.72\n",
      "2    0.68\n",
      "3    0.87\n",
      "4    0.89\n",
      "5    0.86\n",
      "6    0.80\n",
      "7    0.79\n",
      "8    0.91\n",
      "9    0.96\n",
      "10   1.30\n",
      "11   1.54\n",
      "12   1.67\n",
      "Name: price, dtype: float64\n"
     ]
    }
   ],
   "source": [
    "f = df.groupby([df['o_date'].dt.month])['price'].sum()\n",
    "print(f/f.mean())"
   ]
  },
  {
   "cell_type": "code",
   "execution_count": null,
   "metadata": {},
   "outputs": [],
   "source": []
  }
 ],
 "metadata": {
  "kernelspec": {
   "display_name": "Python 3",
   "language": "python",
   "name": "python3"
  },
  "language_info": {
   "codemirror_mode": {
    "name": "ipython",
    "version": 3
   },
   "file_extension": ".py",
   "mimetype": "text/x-python",
   "name": "python",
   "nbconvert_exporter": "python",
   "pygments_lexer": "ipython3",
   "version": "3.8.3"
  }
 },
 "nbformat": 4,
 "nbformat_minor": 4
}
